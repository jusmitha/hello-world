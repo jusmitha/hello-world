{
  "cells": [
    {
      "cell_type": "markdown",
      "metadata": {
        "id": "view-in-github",
        "colab_type": "text"
      },
      "source": [
        "<a href=\"https://colab.research.google.com/github/jusmitha/hello-world/blob/main/2_NumPy(1).ipynb\" target=\"_parent\"><img src=\"https://colab.research.google.com/assets/colab-badge.svg\" alt=\"Open In Colab\"/></a>"
      ]
    },
    {
      "cell_type": "markdown",
      "metadata": {
        "id": "ywYO_oEyNPdA"
      },
      "source": [
        "<h1 style = \"color:Red\" >Working with NumPy</h1>\n"
      ]
    },
    {
      "cell_type": "markdown",
      "metadata": {
        "id": "4yCko0KBNPdC"
      },
      "source": [
        "<h2 style = \"color:Green\"> Outcomes </h2>\n",
        "\n",
        "#### At the end of this chapter, you will be able to\n",
        "* Define NumPy data types\n",
        "* Create and work with NumPy Arrays\n",
        "* Understand the applications of NumpPy"
      ]
    },
    {
      "cell_type": "markdown",
      "metadata": {
        "id": "4XtQQSqhNPdD"
      },
      "source": [
        "<h2 style = \"color:Green\">What is Numpy?</h2>\n",
        "\n",
        "* A Python package for scientific computations\n",
        "\n",
        "* NumPy = ***Numerical Python***\n",
        "\n",
        "* Numpy Library = Multi-dimensional array objects & Functions for processing it.\n",
        "\n",
        "* Multi-dimensional object --> ___ndarray___ object\n",
        "\n",
        "* Variaous operations supported: Arithmetic, Logical, Shape manipulation, Sort, DFT, Statistics, Random simulation etc.\n",
        "\n",
        "* Importing NumPy: ___import numpy as np___"
      ]
    },
    {
      "cell_type": "code",
      "execution_count": null,
      "metadata": {
        "id": "0vH-XpXZNPdE"
      },
      "outputs": [],
      "source": [
        "# import numpy\n",
        "import numpy as np"
      ]
    },
    {
      "cell_type": "markdown",
      "metadata": {
        "id": "epXR5nsMNPdF"
      },
      "source": [
        "<h2 style = \"color:Green\"> Creating and Accessing ndarray object</h2>\n",
        "    \n",
        "* ndarray: Collection of items of the same type\n",
        "\n",
        "    \n",
        "* Items can be accessed using zero-based index.\n",
        "\n",
        "    \n",
        "* array() Function: ***numpy.array(object)*** \n",
        "                --> Creates an ndarray from an object.\n",
        "                --> object: Any array or sequence.\n",
        "               "
      ]
    },
    {
      "cell_type": "markdown",
      "metadata": {
        "id": "7AuHJ6mLNPdF"
      },
      "source": [
        "<h3 style = \"color:Blue\">One Dimensional Array (Vector):</h3>"
      ]
    },
    {
      "cell_type": "code",
      "execution_count": null,
      "metadata": {
        "id": "bX3vOL1lNPdG",
        "outputId": "64fc3dfa-3c59-4b3d-e58b-c29109cb4a4c"
      },
      "outputs": [
        {
          "name": "stdout",
          "output_type": "stream",
          "text": [
            "[ 2  4  6  8 10]\n",
            "<class 'numpy.ndarray'>\n"
          ]
        }
      ],
      "source": [
        "# Create an one dimensional ndarray object from a list, display its values and type\n",
        "n1=np.array([2 ,4, 6 ,8 ,10])\n",
        "print(n1)\n",
        "print(type(n1))"
      ]
    },
    {
      "cell_type": "code",
      "execution_count": null,
      "metadata": {
        "id": "McLZ6ezvNPdH",
        "outputId": "7d5c918b-eddd-4334-a0cd-d6a1d0a395bd"
      },
      "outputs": [
        {
          "name": "stdout",
          "output_type": "stream",
          "text": [
            "[ 3  6  9 12 15 22]\n",
            "<class 'numpy.ndarray'>\n"
          ]
        }
      ],
      "source": [
        "arr1=np.array([3,6,9,12,15,22])\n",
        "print(arr1)\n",
        "print(type(arr1))"
      ]
    },
    {
      "cell_type": "code",
      "execution_count": null,
      "metadata": {
        "id": "YH6HtApLNPdH",
        "outputId": "3df57b39-56fe-495e-f9d8-c7d90814e2ad"
      },
      "outputs": [
        {
          "name": "stdout",
          "output_type": "stream",
          "text": [
            "[3.2 4.5 6.7 8.9]\n",
            "<class 'numpy.ndarray'>\n"
          ]
        }
      ],
      "source": [
        "# Create an one dimensional ndarray object from a tuple, display its values and type\n",
        "import numpy as np\n",
        "n2=np.array((3.2,4.5,6.7,8.9))\n",
        "print(n2)\n",
        "print(type(n2))\n"
      ]
    },
    {
      "cell_type": "code",
      "execution_count": null,
      "metadata": {
        "id": "wp9SkpdXNPdI",
        "outputId": "cdfc929c-c174-49f8-b464-36236bd7ef71"
      },
      "outputs": [
        {
          "name": "stdout",
          "output_type": "stream",
          "text": [
            "[2.3 5.9 7.8 6.2]\n",
            "<class 'numpy.ndarray'>\n"
          ]
        }
      ],
      "source": [
        "arr2=np.array((2.3,5.9,7.8,6.2))\n",
        "print(arr2)\n",
        "print(type(arr2))\n"
      ]
    },
    {
      "cell_type": "markdown",
      "metadata": {
        "id": "o86v5rbeNPdI"
      },
      "source": [
        "<h4 style = \"color:Brown\">Indexing & Slicing:</h4>\n",
        "\n",
        "![oneDim.png](attachment:oneDim.png)"
      ]
    },
    {
      "cell_type": "code",
      "execution_count": null,
      "metadata": {
        "id": "l9AB8NDoNPdI",
        "outputId": "9a9b8aad-9fa8-4a02-c1be-66670a371f97"
      },
      "outputs": [
        {
          "name": "stdout",
          "output_type": "stream",
          "text": [
            "10\n",
            "10\n",
            "20\n",
            "20\n",
            "30\n",
            "30\n",
            "40\n",
            "40\n",
            "[20 30]\n",
            "[40 30 20 10]\n"
          ]
        }
      ],
      "source": [
        "# Create above one dimensional ndarray object and access its elements individually. And also slice some of its elements. \n",
        "arr=np.array([10,20,30,40])\n",
        "print(arr[0])\n",
        "print(arr[-4])\n",
        "print(arr[1])\n",
        "print(arr[-3])\n",
        "print(arr[2])\n",
        "print(arr[-2])\n",
        "print(arr[3])\n",
        "print(arr[-1])\n",
        "print(arr[1:3:1])\n",
        "print(arr[: : -1])"
      ]
    },
    {
      "cell_type": "code",
      "execution_count": null,
      "metadata": {
        "id": "-BFCDiWPNPdJ",
        "outputId": "e79cc515-147b-4395-935d-26414ded2257"
      },
      "outputs": [
        {
          "name": "stdout",
          "output_type": "stream",
          "text": [
            "2\n",
            "2\n",
            "5\n",
            "5\n",
            "12\n",
            "12\n",
            "41\n",
            "41\n"
          ]
        }
      ],
      "source": [
        "arr=np.array([2,5,12,41])\n",
        "print(arr[0])\n",
        "print(arr[-4])\n",
        "print(arr[1])\n",
        "print(arr[-3])\n",
        "print(arr[2])\n",
        "print(arr[-2])\n",
        "print(arr[3])\n",
        "print(arr[-1])"
      ]
    },
    {
      "cell_type": "markdown",
      "metadata": {
        "id": "Uy2sAhTbNPdJ"
      },
      "source": [
        "<h3 style = \"color:Blue\">Two-Dimensional Arrays(Matrices)</h3>\n",
        "\n",
        "* Each element  is itself 1D array\n",
        "\n",
        "\n",
        "* arr2 = numpy.array([[row1], [row2], ...., [rowM]])\n",
        "\n",
        "\n",
        "* Accessing an element: arr2[row_index, column_index]"
      ]
    },
    {
      "cell_type": "code",
      "execution_count": null,
      "metadata": {
        "id": "CzPGS_8SNPdJ",
        "outputId": "c0cdf9e1-92eb-451e-ccb2-06746131bc8e"
      },
      "outputs": [
        {
          "name": "stdout",
          "output_type": "stream",
          "text": [
            "[[1 2 3]\n",
            " [5 6 7]]\n",
            "<class 'numpy.ndarray'>\n",
            "First Row:\n",
            " [1 2 3]\n",
            "First Row:\n",
            " [1 2 3]\n",
            "Second Row:\n",
            " [5 6 7]\n",
            "Second Row:\n",
            " [5 6 7]\n",
            "Element at 2nd Row and 3rd column::\n",
            " 7\n",
            "column 1:\n",
            " 5\n",
            "column 2:\n",
            " [2 6]\n",
            "column 0:\n",
            " [1 5]\n",
            "second and third column:\n",
            " [[2 3]\n",
            " [6 7]]\n"
          ]
        }
      ],
      "source": [
        "# Create a two dimensional array and access their rows and columns individually.\n",
        "# Access the individual elements.\n",
        "arr2 = np.array([[1, 2, 3], [5, 6, 7]])\n",
        "print(arr2)\n",
        "print(type(arr2))\n",
        "print(\"First Row:\\n\",arr2[0])\n",
        "print(\"First Row:\\n\",arr2[0,:])\n",
        "print(\"Second Row:\\n\",arr2[1])\n",
        "print(\"Second Row:\\n\",arr2[1,:])\n",
        "print(\"Element at 2nd Row and 3rd column::\\n\",arr2[1,2])\n",
        "print(\"column 1:\\n\",arr2[1,0])\n",
        "print(\"column 2:\\n\",arr2[:,1])\n",
        "print(\"column 0:\\n\",arr2[:,0])\n",
        "print(\"second and third column:\\n\",arr2[:,1:3])"
      ]
    },
    {
      "cell_type": "code",
      "execution_count": null,
      "metadata": {
        "id": "mxbvX_QONPdK",
        "outputId": "5108f1c7-55a0-4888-91b8-6745607edda7"
      },
      "outputs": [
        {
          "name": "stdout",
          "output_type": "stream",
          "text": [
            "[[2 3 4]\n",
            " [5 6 7]]\n",
            "<class 'numpy.ndarray'>\n"
          ]
        }
      ],
      "source": [
        "n2 = np.array([[ 2, 3,4], [5, 6, 7]])\n",
        "print(n2)\n",
        "print(type(n2))"
      ]
    },
    {
      "cell_type": "markdown",
      "metadata": {
        "id": "Ae51gkNONPdK"
      },
      "source": [
        "<h2 style = \"color:Green\">ndarray Attribtes</h2>"
      ]
    },
    {
      "cell_type": "markdown",
      "metadata": {
        "id": "3tr4yg0jNPdK"
      },
      "source": [
        "* ndarray.ndim: Number of dimensions\n",
        "\n",
        "\n",
        "* ndarry.shape: Array dimensions as a tuple.\n",
        "\n",
        "\n",
        "* ndarry.size: Total number of elements\n",
        "\n",
        "\n",
        "* ndarry.dtype: Type of the array elements.\n",
        "\n",
        "\n",
        "* ndarray.itemsize: The size of each element in bytes"
      ]
    },
    {
      "cell_type": "code",
      "execution_count": null,
      "metadata": {
        "id": "RZU3v5tHNPdL",
        "outputId": "218c2744-c11a-411f-81a4-ff0210889be8"
      },
      "outputs": [
        {
          "name": "stdout",
          "output_type": "stream",
          "text": [
            "Dimensions: 1\n",
            "Shape: (4,)\n",
            "size: 4\n",
            "Data Type: int32\n",
            "Item Size: 4\n"
          ]
        }
      ],
      "source": [
        "# Create an one dimensional ndarray object and diplay all its attribute values.\n",
        "n3 = np.array([1,2,3,4])\n",
        "print(\"Dimensions:\",n3.ndim)\n",
        "print(\"Shape:\",n3.shape)\n",
        "print(\"size:\",n3.size)\n",
        "print(\"Data Type:\",n3.dtype)\n",
        "print(\"Item Size:\",n3.itemsize)"
      ]
    },
    {
      "cell_type": "code",
      "execution_count": null,
      "metadata": {
        "id": "W_WTmJTtNPdL",
        "outputId": "c5432c9e-35af-44f3-ca21-871943b12a5f"
      },
      "outputs": [
        {
          "name": "stdout",
          "output_type": "stream",
          "text": [
            "[[ 10  20  30  40]\n",
            " [ 50  60  70  80]\n",
            " [ 90 100 110 120]]\n",
            "Dimensions: 2\n",
            "Shape: (3, 4)\n",
            "size: 12\n",
            "Data Type: int32\n",
            "Item Size: 4\n"
          ]
        }
      ],
      "source": [
        "# Create a two dimensional ndarray object and diplay all its attribute values.\n",
        "n4  = np.array([[10.0,20.0,30.0,40.0],[50.0,60.0,70.0,80.0],[90.0,100.0,110.0,120.0]])\n",
        "print(n4)\n",
        "print(\"Dimensions:\",n4.ndim)\n",
        "print(\"Shape:\",n4.shape)\n",
        "print(\"size:\",n4.size)\n",
        "print(\"Data Type:\",n4.dtype)\n",
        "print(\"Item Size:\",n4.itemsize)"
      ]
    },
    {
      "cell_type": "markdown",
      "metadata": {
        "id": "p6q3gurnNPdL"
      },
      "source": [
        "<h2 style = \"color:Green\">Other NumPy array creation functions</h2>"
      ]
    },
    {
      "cell_type": "markdown",
      "metadata": {
        "id": "-BQ_8OW1NPdM"
      },
      "source": [
        "#### zeros(shape)\n",
        "* Returns an array of zeros with specified shape\n",
        "* Dafalut dtype is float\n",
        "\n",
        "\n",
        "\n",
        "#### ones(shape)\n",
        "* Returns an array of ones with specified shape\n",
        "* Dafalut dtype is float\n",
        "\n",
        "\n",
        "#### arange(start, stop, step, dtype)\n",
        "* Returns an ndarray object with elements decided by start, stop and step arguments.\n",
        "* Note that stop value is not including in the array.\n",
        "* Default dtype is type is determined by type of start or stop values.\n",
        "\n",
        "#### linspace(start, stop, N, dtype)\n",
        "* Returns an ndarray object with N elements in the range from start value to stop stop .\n",
        "* Note that stop value is inclusive in the array.\n",
        "* Defaul type is float64"
      ]
    },
    {
      "cell_type": "code",
      "execution_count": null,
      "metadata": {
        "id": "A3CTE-LKNPdM",
        "outputId": "77af761e-78d5-4006-ec88-35a1e8a896e0"
      },
      "outputs": [
        {
          "name": "stdout",
          "output_type": "stream",
          "text": [
            "[[0. 0. 0.]\n",
            " [0. 0. 0.]]\n",
            "float64\n",
            "[[0 0 0]\n",
            " [0 0 0]]\n",
            "uint8\n"
          ]
        }
      ],
      "source": [
        "# Create ndarray objects with all zeros using different dimensions and dtypes.\n",
        "n=np.zeros((2,3))\n",
        "print(n)\n",
        "print(n.dtype)\n",
        "n1=np.zeros((2,3),dtype=np.uint8)\n",
        "print(n1)\n",
        "print(n1.dtype)"
      ]
    },
    {
      "cell_type": "code",
      "execution_count": null,
      "metadata": {
        "id": "cuOLSS36NPdM",
        "outputId": "39a6039a-f0b0-42a7-e4a1-de94a060fcfe"
      },
      "outputs": [
        {
          "name": "stdout",
          "output_type": "stream",
          "text": [
            "[[1 1 1]\n",
            " [1 1 1]]\n"
          ]
        }
      ],
      "source": [
        "# Create ndarray objects with all ones using different dimensions and dtypes.\n",
        "n=np.ones((2,3),dtype=int)\n",
        "print(n)"
      ]
    },
    {
      "cell_type": "code",
      "execution_count": null,
      "metadata": {
        "id": "4FglPVAINPdM",
        "outputId": "4e2643cb-fc47-4c63-90ce-6041aca78037"
      },
      "outputs": [
        {
          "name": "stdout",
          "output_type": "stream",
          "text": [
            "[  0  10  20  30  40  50  60  70  80  90 100]\n",
            "uint16\n"
          ]
        }
      ],
      "source": [
        "# Create one dimensional ndarray objects with various range of values and dtypes.\n",
        "nar=np.arange(0,101,10,dtype=np.uint16)\n",
        "print(nar)\n",
        "print(nar.dtype)"
      ]
    },
    {
      "cell_type": "code",
      "execution_count": null,
      "metadata": {
        "id": "jK-uVRSdNPdN",
        "outputId": "1870d294-0cd9-41d9-d287-53e33ee28719"
      },
      "outputs": [
        {
          "name": "stdout",
          "output_type": "stream",
          "text": [
            "[  1.      5.125   9.25   13.375  17.5    21.625  25.75   29.875  34.\n",
            "  38.125  42.25   46.375  50.5    54.625  58.75   62.875  67.     71.125\n",
            "  75.25   79.375  83.5    87.625  91.75   95.875 100.   ]\n",
            "25\n"
          ]
        }
      ],
      "source": [
        "# Create one dimensional ndarray objects with 25 elements between 1 and 100 of different dtypes.\n",
        "n7=np.linspace(1,100,25)\n",
        "print(n7)\n",
        "print(len(n7))"
      ]
    }
  ],
  "metadata": {
    "kernelspec": {
      "display_name": "Python 3 (ipykernel)",
      "language": "python",
      "name": "python3"
    },
    "language_info": {
      "codemirror_mode": {
        "name": "ipython",
        "version": 3
      },
      "file_extension": ".py",
      "mimetype": "text/x-python",
      "name": "python",
      "nbconvert_exporter": "python",
      "pygments_lexer": "ipython3",
      "version": "3.9.13"
    },
    "colab": {
      "provenance": [],
      "include_colab_link": true
    }
  },
  "nbformat": 4,
  "nbformat_minor": 0
}